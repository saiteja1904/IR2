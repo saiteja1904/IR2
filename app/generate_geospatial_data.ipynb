{
 "metadata": {
  "language_info": {
   "codemirror_mode": {
    "name": "ipython",
    "version": 3
   },
   "file_extension": ".py",
   "mimetype": "text/x-python",
   "name": "python",
   "nbconvert_exporter": "python",
   "pygments_lexer": "ipython3",
   "version": "3.8.5-final"
  },
  "orig_nbformat": 2,
  "kernelspec": {
   "name": "python38564bit71e85dc320f546caadb52bc61b46d09f",
   "display_name": "Python 3.8.5 64-bit"
  },
  "metadata": {
   "interpreter": {
    "hash": "31f2aee4e71d21fbe5cf8b01ff0e069b9275f58929596ceb00d14d90e3e16cd6"
   }
  }
 },
 "nbformat": 4,
 "nbformat_minor": 2,
 "cells": [
  {
   "cell_type": "code",
   "execution_count": 1,
   "metadata": {},
   "outputs": [],
   "source": [
    "import pandas as pd"
   ]
  },
  {
   "cell_type": "code",
   "execution_count": 2,
   "metadata": {},
   "outputs": [
    {
     "output_type": "execute_result",
     "data": {
      "text/plain": [
       "         username                                            content  \\\n",
       "0         cian2me  @chronicle Dr. Biden will explain to Epstein w...   \n",
       "1  cheekymiller89  I can't believe #Trump is taking legal action ...   \n",
       "2       himabista  You uplift women as you climb the ladder for e...   \n",
       "3         abmowat  Is that orange shithead gone yet?\\n#DictatorTr...   \n",
       "4  trevahhhNstuff  Lmdao you going to have white people thinking ...   \n",
       "\n",
       "                        date      country  replyCount  retweetCount  \\\n",
       "0  2020-12-18 22:07:24+00:00       France           0             0   \n",
       "1  2020-11-10 19:33:50+00:00       France           1             0   \n",
       "2  2020-11-25 08:03:14+00:00        China           0             0   \n",
       "3  2020-11-03 16:18:00+00:00       France           0             0   \n",
       "4  2020-12-02 01:17:52+00:00  South Korea           0             0   \n",
       "\n",
       "   likeCount                                                url  sentiment  \\\n",
       "0          5  https://twitter.com/cian2me/status/13400560958...  Pro Trump   \n",
       "1          2  https://twitter.com/cheekymiller89/status/1326...  Pro Biden   \n",
       "2          1  https://twitter.com/himabista/status/133150873...  Pro Biden   \n",
       "3          0  https://twitter.com/abmowat/status/13236607109...  Pro Biden   \n",
       "4          0  https://twitter.com/trevahhhNstuff/status/1333...  Pro Trump   \n",
       "\n",
       "   weightedSentiment  weightedSentimentNorm  \n",
       "0           3.302585               0.003204  \n",
       "1           4.040348               0.004231  \n",
       "2           1.693147               0.000964  \n",
       "3           1.000000               0.000000  \n",
       "4           1.000000               0.000000  "
      ],
      "text/html": "<div>\n<style scoped>\n    .dataframe tbody tr th:only-of-type {\n        vertical-align: middle;\n    }\n\n    .dataframe tbody tr th {\n        vertical-align: top;\n    }\n\n    .dataframe thead th {\n        text-align: right;\n    }\n</style>\n<table border=\"1\" class=\"dataframe\">\n  <thead>\n    <tr style=\"text-align: right;\">\n      <th></th>\n      <th>username</th>\n      <th>content</th>\n      <th>date</th>\n      <th>country</th>\n      <th>replyCount</th>\n      <th>retweetCount</th>\n      <th>likeCount</th>\n      <th>url</th>\n      <th>sentiment</th>\n      <th>weightedSentiment</th>\n      <th>weightedSentimentNorm</th>\n    </tr>\n  </thead>\n  <tbody>\n    <tr>\n      <th>0</th>\n      <td>cian2me</td>\n      <td>@chronicle Dr. Biden will explain to Epstein w...</td>\n      <td>2020-12-18 22:07:24+00:00</td>\n      <td>France</td>\n      <td>0</td>\n      <td>0</td>\n      <td>5</td>\n      <td>https://twitter.com/cian2me/status/13400560958...</td>\n      <td>Pro Trump</td>\n      <td>3.302585</td>\n      <td>0.003204</td>\n    </tr>\n    <tr>\n      <th>1</th>\n      <td>cheekymiller89</td>\n      <td>I can't believe #Trump is taking legal action ...</td>\n      <td>2020-11-10 19:33:50+00:00</td>\n      <td>France</td>\n      <td>1</td>\n      <td>0</td>\n      <td>2</td>\n      <td>https://twitter.com/cheekymiller89/status/1326...</td>\n      <td>Pro Biden</td>\n      <td>4.040348</td>\n      <td>0.004231</td>\n    </tr>\n    <tr>\n      <th>2</th>\n      <td>himabista</td>\n      <td>You uplift women as you climb the ladder for e...</td>\n      <td>2020-11-25 08:03:14+00:00</td>\n      <td>China</td>\n      <td>0</td>\n      <td>0</td>\n      <td>1</td>\n      <td>https://twitter.com/himabista/status/133150873...</td>\n      <td>Pro Biden</td>\n      <td>1.693147</td>\n      <td>0.000964</td>\n    </tr>\n    <tr>\n      <th>3</th>\n      <td>abmowat</td>\n      <td>Is that orange shithead gone yet?\\n#DictatorTr...</td>\n      <td>2020-11-03 16:18:00+00:00</td>\n      <td>France</td>\n      <td>0</td>\n      <td>0</td>\n      <td>0</td>\n      <td>https://twitter.com/abmowat/status/13236607109...</td>\n      <td>Pro Biden</td>\n      <td>1.000000</td>\n      <td>0.000000</td>\n    </tr>\n    <tr>\n      <th>4</th>\n      <td>trevahhhNstuff</td>\n      <td>Lmdao you going to have white people thinking ...</td>\n      <td>2020-12-02 01:17:52+00:00</td>\n      <td>South Korea</td>\n      <td>0</td>\n      <td>0</td>\n      <td>0</td>\n      <td>https://twitter.com/trevahhhNstuff/status/1333...</td>\n      <td>Pro Trump</td>\n      <td>1.000000</td>\n      <td>0.000000</td>\n    </tr>\n  </tbody>\n</table>\n</div>"
     },
     "metadata": {},
     "execution_count": 2
    }
   ],
   "source": [
    "data = pd.read_csv('dataForSolr_v2.csv')\n",
    "data.head()"
   ]
  },
  {
   "cell_type": "code",
   "execution_count": 3,
   "metadata": {},
   "outputs": [
    {
     "output_type": "execute_result",
     "data": {
      "text/plain": [
       "                            sum\n",
       "country     sentiment          \n",
       "Afghanistan Pro Biden  3.060131\n",
       "            Pro Trump  0.331133\n",
       "Australia   Pro Biden  5.378802\n",
       "            Pro Trump  2.036534\n",
       "Brazil      Pro Biden  4.373934"
      ],
      "text/html": "<div>\n<style scoped>\n    .dataframe tbody tr th:only-of-type {\n        vertical-align: middle;\n    }\n\n    .dataframe tbody tr th {\n        vertical-align: top;\n    }\n\n    .dataframe thead th {\n        text-align: right;\n    }\n</style>\n<table border=\"1\" class=\"dataframe\">\n  <thead>\n    <tr style=\"text-align: right;\">\n      <th></th>\n      <th></th>\n      <th>sum</th>\n    </tr>\n    <tr>\n      <th>country</th>\n      <th>sentiment</th>\n      <th></th>\n    </tr>\n  </thead>\n  <tbody>\n    <tr>\n      <th rowspan=\"2\" valign=\"top\">Afghanistan</th>\n      <th>Pro Biden</th>\n      <td>3.060131</td>\n    </tr>\n    <tr>\n      <th>Pro Trump</th>\n      <td>0.331133</td>\n    </tr>\n    <tr>\n      <th rowspan=\"2\" valign=\"top\">Australia</th>\n      <th>Pro Biden</th>\n      <td>5.378802</td>\n    </tr>\n    <tr>\n      <th>Pro Trump</th>\n      <td>2.036534</td>\n    </tr>\n    <tr>\n      <th>Brazil</th>\n      <th>Pro Biden</th>\n      <td>4.373934</td>\n    </tr>\n  </tbody>\n</table>\n</div>"
     },
     "metadata": {},
     "execution_count": 3
    }
   ],
   "source": [
    "data = data[['country', 'sentiment', 'weightedSentimentNorm']]\n",
    "countries = data['country'].unique()\n",
    "data = data.groupby(['country', 'sentiment'])['weightedSentimentNorm'].agg(['sum'])\n",
    "data.head()"
   ]
  },
  {
   "cell_type": "code",
   "execution_count": 4,
   "metadata": {},
   "outputs": [
    {
     "output_type": "execute_result",
     "data": {
      "text/plain": [
       "23"
      ]
     },
     "metadata": {},
     "execution_count": 4
    }
   ],
   "source": [
    "len(countries)"
   ]
  },
  {
   "cell_type": "code",
   "execution_count": 5,
   "metadata": {},
   "outputs": [
    {
     "output_type": "execute_result",
     "data": {
      "text/plain": [
       "                              sum\n",
       "country      sentiment           \n",
       "Afghanistan  Pro Biden   3.060131\n",
       "             Pro Trump   0.331133\n",
       "Australia    Pro Biden   5.378802\n",
       "             Pro Trump   2.036534\n",
       "Brazil       Pro Biden   4.373934\n",
       "             Pro Trump   2.130744\n",
       "Canada       Pro Biden   5.076177\n",
       "             Pro Trump   1.851881\n",
       "China        Pro Biden   1.145054\n",
       "             Pro Trump   1.297892\n",
       "France       Pro Biden  10.222376\n",
       "             Pro Trump   2.708367\n",
       "Germany      Pro Biden   1.896711\n",
       "             Pro Trump   1.145072\n",
       "India        Pro Biden   6.593220\n",
       "             Pro Trump   1.760649\n",
       "Indonesia    Pro Biden   2.618412\n",
       "             Pro Trump   0.387142\n",
       "Iran         Pro Biden   0.496881\n",
       "             Pro Trump   0.347130\n",
       "Israel       Pro Biden   2.568697\n",
       "             Pro Trump   0.771813\n",
       "Japan        Pro Biden   0.576637\n",
       "             Pro Trump   0.585576\n",
       "Kenya        Pro Biden   3.040431\n",
       "             Pro Trump   1.449003\n",
       "Mexico       Pro Biden   6.529880\n",
       "             Pro Trump   1.843050\n",
       "Nigeria      Pro Biden   0.689264\n",
       "             Pro Trump   3.358437\n",
       "Philippines  Pro Biden   0.125730\n",
       "             Pro Trump   0.015117\n",
       "Russia       Pro Biden   2.093741\n",
       "             Pro Trump   1.241686\n",
       "Saudi Arabia Pro Biden   0.076577\n",
       "             Pro Trump   0.283402\n",
       "Singapore    Pro Biden   1.503000\n",
       "             Pro Trump   0.276576\n",
       "South Korea  Pro Biden   0.905216\n",
       "             Pro Trump   0.924605\n",
       "Taiwan       Pro Biden   0.230932\n",
       "             Pro Trump   0.053982\n",
       "UK           Pro Biden   6.042433\n",
       "             Pro Trump   2.030618\n",
       "Ukraine      Pro Biden   0.677080\n",
       "             Pro Trump   0.718820"
      ],
      "text/html": "<div>\n<style scoped>\n    .dataframe tbody tr th:only-of-type {\n        vertical-align: middle;\n    }\n\n    .dataframe tbody tr th {\n        vertical-align: top;\n    }\n\n    .dataframe thead th {\n        text-align: right;\n    }\n</style>\n<table border=\"1\" class=\"dataframe\">\n  <thead>\n    <tr style=\"text-align: right;\">\n      <th></th>\n      <th></th>\n      <th>sum</th>\n    </tr>\n    <tr>\n      <th>country</th>\n      <th>sentiment</th>\n      <th></th>\n    </tr>\n  </thead>\n  <tbody>\n    <tr>\n      <th rowspan=\"2\" valign=\"top\">Afghanistan</th>\n      <th>Pro Biden</th>\n      <td>3.060131</td>\n    </tr>\n    <tr>\n      <th>Pro Trump</th>\n      <td>0.331133</td>\n    </tr>\n    <tr>\n      <th rowspan=\"2\" valign=\"top\">Australia</th>\n      <th>Pro Biden</th>\n      <td>5.378802</td>\n    </tr>\n    <tr>\n      <th>Pro Trump</th>\n      <td>2.036534</td>\n    </tr>\n    <tr>\n      <th rowspan=\"2\" valign=\"top\">Brazil</th>\n      <th>Pro Biden</th>\n      <td>4.373934</td>\n    </tr>\n    <tr>\n      <th>Pro Trump</th>\n      <td>2.130744</td>\n    </tr>\n    <tr>\n      <th rowspan=\"2\" valign=\"top\">Canada</th>\n      <th>Pro Biden</th>\n      <td>5.076177</td>\n    </tr>\n    <tr>\n      <th>Pro Trump</th>\n      <td>1.851881</td>\n    </tr>\n    <tr>\n      <th rowspan=\"2\" valign=\"top\">China</th>\n      <th>Pro Biden</th>\n      <td>1.145054</td>\n    </tr>\n    <tr>\n      <th>Pro Trump</th>\n      <td>1.297892</td>\n    </tr>\n    <tr>\n      <th rowspan=\"2\" valign=\"top\">France</th>\n      <th>Pro Biden</th>\n      <td>10.222376</td>\n    </tr>\n    <tr>\n      <th>Pro Trump</th>\n      <td>2.708367</td>\n    </tr>\n    <tr>\n      <th rowspan=\"2\" valign=\"top\">Germany</th>\n      <th>Pro Biden</th>\n      <td>1.896711</td>\n    </tr>\n    <tr>\n      <th>Pro Trump</th>\n      <td>1.145072</td>\n    </tr>\n    <tr>\n      <th rowspan=\"2\" valign=\"top\">India</th>\n      <th>Pro Biden</th>\n      <td>6.593220</td>\n    </tr>\n    <tr>\n      <th>Pro Trump</th>\n      <td>1.760649</td>\n    </tr>\n    <tr>\n      <th rowspan=\"2\" valign=\"top\">Indonesia</th>\n      <th>Pro Biden</th>\n      <td>2.618412</td>\n    </tr>\n    <tr>\n      <th>Pro Trump</th>\n      <td>0.387142</td>\n    </tr>\n    <tr>\n      <th rowspan=\"2\" valign=\"top\">Iran</th>\n      <th>Pro Biden</th>\n      <td>0.496881</td>\n    </tr>\n    <tr>\n      <th>Pro Trump</th>\n      <td>0.347130</td>\n    </tr>\n    <tr>\n      <th rowspan=\"2\" valign=\"top\">Israel</th>\n      <th>Pro Biden</th>\n      <td>2.568697</td>\n    </tr>\n    <tr>\n      <th>Pro Trump</th>\n      <td>0.771813</td>\n    </tr>\n    <tr>\n      <th rowspan=\"2\" valign=\"top\">Japan</th>\n      <th>Pro Biden</th>\n      <td>0.576637</td>\n    </tr>\n    <tr>\n      <th>Pro Trump</th>\n      <td>0.585576</td>\n    </tr>\n    <tr>\n      <th rowspan=\"2\" valign=\"top\">Kenya</th>\n      <th>Pro Biden</th>\n      <td>3.040431</td>\n    </tr>\n    <tr>\n      <th>Pro Trump</th>\n      <td>1.449003</td>\n    </tr>\n    <tr>\n      <th rowspan=\"2\" valign=\"top\">Mexico</th>\n      <th>Pro Biden</th>\n      <td>6.529880</td>\n    </tr>\n    <tr>\n      <th>Pro Trump</th>\n      <td>1.843050</td>\n    </tr>\n    <tr>\n      <th rowspan=\"2\" valign=\"top\">Nigeria</th>\n      <th>Pro Biden</th>\n      <td>0.689264</td>\n    </tr>\n    <tr>\n      <th>Pro Trump</th>\n      <td>3.358437</td>\n    </tr>\n    <tr>\n      <th rowspan=\"2\" valign=\"top\">Philippines</th>\n      <th>Pro Biden</th>\n      <td>0.125730</td>\n    </tr>\n    <tr>\n      <th>Pro Trump</th>\n      <td>0.015117</td>\n    </tr>\n    <tr>\n      <th rowspan=\"2\" valign=\"top\">Russia</th>\n      <th>Pro Biden</th>\n      <td>2.093741</td>\n    </tr>\n    <tr>\n      <th>Pro Trump</th>\n      <td>1.241686</td>\n    </tr>\n    <tr>\n      <th rowspan=\"2\" valign=\"top\">Saudi Arabia</th>\n      <th>Pro Biden</th>\n      <td>0.076577</td>\n    </tr>\n    <tr>\n      <th>Pro Trump</th>\n      <td>0.283402</td>\n    </tr>\n    <tr>\n      <th rowspan=\"2\" valign=\"top\">Singapore</th>\n      <th>Pro Biden</th>\n      <td>1.503000</td>\n    </tr>\n    <tr>\n      <th>Pro Trump</th>\n      <td>0.276576</td>\n    </tr>\n    <tr>\n      <th rowspan=\"2\" valign=\"top\">South Korea</th>\n      <th>Pro Biden</th>\n      <td>0.905216</td>\n    </tr>\n    <tr>\n      <th>Pro Trump</th>\n      <td>0.924605</td>\n    </tr>\n    <tr>\n      <th rowspan=\"2\" valign=\"top\">Taiwan</th>\n      <th>Pro Biden</th>\n      <td>0.230932</td>\n    </tr>\n    <tr>\n      <th>Pro Trump</th>\n      <td>0.053982</td>\n    </tr>\n    <tr>\n      <th rowspan=\"2\" valign=\"top\">UK</th>\n      <th>Pro Biden</th>\n      <td>6.042433</td>\n    </tr>\n    <tr>\n      <th>Pro Trump</th>\n      <td>2.030618</td>\n    </tr>\n    <tr>\n      <th rowspan=\"2\" valign=\"top\">Ukraine</th>\n      <th>Pro Biden</th>\n      <td>0.677080</td>\n    </tr>\n    <tr>\n      <th>Pro Trump</th>\n      <td>0.718820</td>\n    </tr>\n  </tbody>\n</table>\n</div>"
     },
     "metadata": {},
     "execution_count": 5
    }
   ],
   "source": [
    "new = pd.DataFrame(data)\n",
    "new"
   ]
  },
  {
   "cell_type": "code",
   "execution_count": 6,
   "metadata": {},
   "outputs": [],
   "source": [
    "\n",
    "countries = {key: [] for key in countries}\n",
    "for i,val in new.iterrows():\n",
    "    countries[i[0]].append(val['sum'])"
   ]
  },
  {
   "cell_type": "code",
   "execution_count": 7,
   "metadata": {},
   "outputs": [
    {
     "output_type": "execute_result",
     "data": {
      "text/plain": [
       "{'France': [10.222375762000073, 2.7083672189999937],\n",
       " 'China': [1.145053752999999, 1.2978919789999948],\n",
       " 'South Korea': [0.9052161339999996, 0.9246047799999997],\n",
       " 'Mexico': [6.529879683999972, 1.8430498929999954],\n",
       " 'Israel': [2.5686969479999964, 0.7718132799999999],\n",
       " 'Indonesia': [2.6184123559999923, 0.3871420800000001],\n",
       " 'UK': [6.042432827999965, 2.0306179499999892],\n",
       " 'India': [6.593219559999973, 1.760649224999991],\n",
       " 'Russia': [2.093741384999993, 1.2416855909999973],\n",
       " 'Australia': [5.37880215099999, 2.0365338419999937],\n",
       " 'Singapore': [1.5029996399999987, 0.276576466],\n",
       " 'Canada': [5.07617716799998, 1.8518813659999913],\n",
       " 'Afghanistan': [3.060130531999994, 0.3311332779999999],\n",
       " 'Germany': [1.8967106759999945, 1.1450718219999996],\n",
       " 'Kenya': [3.0404305599999946, 1.4490026709999972],\n",
       " 'Brazil': [4.373934366999991, 2.1307440519999905],\n",
       " 'Nigeria': [0.6892640790000002, 3.3584372929999966],\n",
       " 'Japan': [0.5766371870000002, 0.585576328],\n",
       " 'Taiwan': [0.2309321669999998, 0.053981989999999994],\n",
       " 'Iran': [0.49688083400000027, 0.347129787],\n",
       " 'Ukraine': [0.6770802389999998, 0.7188198849999993],\n",
       " 'Saudi Arabia': [0.07657740000000005, 0.2834023669999999],\n",
       " 'Philippines': [0.12572957, 0.01511746]}"
      ]
     },
     "metadata": {},
     "execution_count": 7
    }
   ],
   "source": [
    "countries"
   ]
  },
  {
   "cell_type": "code",
   "execution_count": 8,
   "metadata": {},
   "outputs": [],
   "source": [
    "percentages_biden = []\n",
    "percentages_trump = []\n",
    "for key in countries.keys():\n",
    "    total = sum(countries[key])\n",
    "    percentages_biden.append(countries[key][0]/total)\n",
    "    percentages_trump.append(countries[key][1]/total)\n"
   ]
  },
  {
   "cell_type": "code",
   "execution_count": 9,
   "metadata": {},
   "outputs": [],
   "source": [
    "countries = list(countries.keys())"
   ]
  },
  {
   "cell_type": "code",
   "execution_count": 10,
   "metadata": {},
   "outputs": [],
   "source": [
    "new_data = []\n",
    "for i in range(len(countries)):\n",
    "    new_data.append([countries[i], percentages_trump[i], percentages_biden[i]])"
   ]
  },
  {
   "cell_type": "code",
   "execution_count": 11,
   "metadata": {},
   "outputs": [
    {
     "output_type": "execute_result",
     "data": {
      "text/plain": [
       "       country     trump     biden  sentiment     score\n",
       "0       France  0.104726  0.395274  Pro Biden  0.395274\n",
       "1        China  0.265641  0.234359  Pro Trump  0.265641\n",
       "2  South Korea  0.252649  0.247351  Pro Trump  0.252649\n",
       "3       Mexico  0.110060  0.389940  Pro Biden  0.389940\n",
       "4       Israel  0.115523  0.384477  Pro Biden  0.384477"
      ],
      "text/html": "<div>\n<style scoped>\n    .dataframe tbody tr th:only-of-type {\n        vertical-align: middle;\n    }\n\n    .dataframe tbody tr th {\n        vertical-align: top;\n    }\n\n    .dataframe thead th {\n        text-align: right;\n    }\n</style>\n<table border=\"1\" class=\"dataframe\">\n  <thead>\n    <tr style=\"text-align: right;\">\n      <th></th>\n      <th>country</th>\n      <th>trump</th>\n      <th>biden</th>\n      <th>sentiment</th>\n      <th>score</th>\n    </tr>\n  </thead>\n  <tbody>\n    <tr>\n      <th>0</th>\n      <td>France</td>\n      <td>0.104726</td>\n      <td>0.395274</td>\n      <td>Pro Biden</td>\n      <td>0.395274</td>\n    </tr>\n    <tr>\n      <th>1</th>\n      <td>China</td>\n      <td>0.265641</td>\n      <td>0.234359</td>\n      <td>Pro Trump</td>\n      <td>0.265641</td>\n    </tr>\n    <tr>\n      <th>2</th>\n      <td>South Korea</td>\n      <td>0.252649</td>\n      <td>0.247351</td>\n      <td>Pro Trump</td>\n      <td>0.252649</td>\n    </tr>\n    <tr>\n      <th>3</th>\n      <td>Mexico</td>\n      <td>0.110060</td>\n      <td>0.389940</td>\n      <td>Pro Biden</td>\n      <td>0.389940</td>\n    </tr>\n    <tr>\n      <th>4</th>\n      <td>Israel</td>\n      <td>0.115523</td>\n      <td>0.384477</td>\n      <td>Pro Biden</td>\n      <td>0.384477</td>\n    </tr>\n  </tbody>\n</table>\n</div>"
     },
     "metadata": {},
     "execution_count": 11
    }
   ],
   "source": [
    "new_data = pd.DataFrame(new_data)\n",
    "new_data.columns = [\"country\", \"trump\", \"biden\"]\n",
    "new_data['trump'] = new_data['trump']/2\n",
    "new_data['biden'] = new_data['biden']/2\n",
    "new_data.head()\n",
    "actual_sentiment = []\n",
    "sentiment_score = []\n",
    "for i, val in new_data.iterrows():\n",
    "    sentiment_score.append(max(val[['biden', 'trump']]))\n",
    "    actual_sentiment.append(\"Pro Trump\" if val['trump'] > val['biden'] else \"Pro Biden\")\n",
    "new_data['sentiment'] = actual_sentiment\n",
    "new_data['score'] = sentiment_score\n",
    "new_data.head()\n"
   ]
  },
  {
   "cell_type": "code",
   "execution_count": 12,
   "metadata": {},
   "outputs": [
    {
     "output_type": "stream",
     "name": "stderr",
     "text": [
      "<ipython-input-12-c8381cde7e25>:3: SettingWithCopyWarning: \nA value is trying to be set on a copy of a slice from a DataFrame\n\nSee the caveats in the documentation: https://pandas.pydata.org/pandas-docs/stable/user_guide/indexing.html#returning-a-view-versus-a-copy\n  new_data['score'][i] = 0.5+new_data['score'][i]\n"
     ]
    }
   ],
   "source": [
    "for i in range(len(new_data)):\n",
    "    if new_data['sentiment'][i] == \"Pro Biden\":\n",
    "        new_data['score'][i] = 0.5+new_data['score'][i]"
   ]
  },
  {
   "cell_type": "code",
   "execution_count": 13,
   "metadata": {},
   "outputs": [],
   "source": [
    "percentage = []\n",
    "for i in range(len(new_data)):\n",
    "    value = 1-new_data['score'][i]\n",
    "    if new_data['sentiment'][i] == \"Pro Biden\":\n",
    "        percentage.append(f\"Pro Trump: {value} \\n Pro Biden: {new_data['score'][i]}\")\n",
    "    else:\n",
    "        percentage.append(f\"Pro Trump: {new_data['score'][i]} \\n Pro Biden: {value}\")"
   ]
  },
  {
   "cell_type": "code",
   "execution_count": 14,
   "metadata": {},
   "outputs": [
    {
     "output_type": "execute_result",
     "data": {
      "text/plain": [
       "         country     trump     biden  sentiment     score  \\\n",
       "0         France  0.104726  0.395274  Pro Biden  0.895274   \n",
       "1          China  0.265641  0.234359  Pro Trump  0.265641   \n",
       "2    South Korea  0.252649  0.247351  Pro Trump  0.252649   \n",
       "3         Mexico  0.110060  0.389940  Pro Biden  0.889940   \n",
       "4         Israel  0.115523  0.384477  Pro Biden  0.884477   \n",
       "5      Indonesia  0.064404  0.435596  Pro Biden  0.935596   \n",
       "6             UK  0.125765  0.374235  Pro Biden  0.874235   \n",
       "7          India  0.105379  0.394621  Pro Biden  0.894621   \n",
       "8         Russia  0.186136  0.313864  Pro Biden  0.813864   \n",
       "9      Australia  0.137319  0.362681  Pro Biden  0.862681   \n",
       "10     Singapore  0.077709  0.422291  Pro Biden  0.922291   \n",
       "11        Canada  0.133651  0.366349  Pro Biden  0.866349   \n",
       "12   Afghanistan  0.048822  0.451178  Pro Biden  0.951178   \n",
       "13       Germany  0.188224  0.311776  Pro Biden  0.811776   \n",
       "14         Kenya  0.161379  0.338621  Pro Biden  0.838621   \n",
       "15        Brazil  0.163786  0.336214  Pro Biden  0.836214   \n",
       "16       Nigeria  0.414857  0.085143  Pro Trump  0.414857   \n",
       "17         Japan  0.251923  0.248077  Pro Trump  0.251923   \n",
       "18        Taiwan  0.094734  0.405266  Pro Biden  0.905266   \n",
       "19          Iran  0.205643  0.294357  Pro Biden  0.794357   \n",
       "20       Ukraine  0.257475  0.242525  Pro Trump  0.257475   \n",
       "21  Saudi Arabia  0.393637  0.106363  Pro Trump  0.393637   \n",
       "22   Philippines  0.053666  0.446334  Pro Biden  0.946334   \n",
       "\n",
       "                                           percentage  \n",
       "0   Pro Trump: 0.10472589328314563 \\n Pro Biden: 0...  \n",
       "1   Pro Trump: 0.2656407717124021 \\n Pro Biden: 0....  \n",
       "2   Pro Trump: 0.2526489813636484 \\n Pro Biden: 0....  \n",
       "3   Pro Trump: 0.1100600378906067 \\n Pro Biden: 0....  \n",
       "4   Pro Trump: 0.11552326251401634 \\n Pro Biden: 0...  \n",
       "5   Pro Trump: 0.06440443655967121 \\n Pro Biden: 0...  \n",
       "6   Pro Trump: 0.12576521601559043 \\n Pro Biden: 0...  \n",
       "7   Pro Trump: 0.1053792721859228 \\n Pro Biden: 0....  \n",
       "8   Pro Trump: 0.1861359280137933 \\n Pro Biden: 0....  \n",
       "9   Pro Trump: 0.13731905364250951 \\n Pro Biden: 0...  \n",
       "10  Pro Trump: 0.07770852425684349 \\n Pro Biden: 0...  \n",
       "11  Pro Trump: 0.1336508169577194 \\n Pro Biden: 0....  \n",
       "12  Pro Trump: 0.048821515598929555 \\n Pro Biden: ...  \n",
       "13  Pro Trump: 0.18822381658663911 \\n Pro Biden: 0...  \n",
       "14  Pro Trump: 0.16137924281783356 \\n Pro Biden: 0...  \n",
       "15  Pro Trump: 0.1637855028909767 \\n Pro Biden: 0....  \n",
       "16  Pro Trump: 0.4148573454840333 \\n Pro Biden: 0....  \n",
       "17  Pro Trump: 0.25192286978352674 \\n Pro Biden: 0...  \n",
       "18  Pro Trump: 0.09473377976089836 \\n Pro Biden: 0...  \n",
       "19  Pro Trump: 0.20564302057521133 \\n Pro Biden: 0...  \n",
       "20  Pro Trump: 0.2574753997944339 \\n Pro Biden: 0....  \n",
       "21  Pro Trump: 0.39363652207708655 \\n Pro Biden: 0...  \n",
       "22  Pro Trump: 0.053666236341653795 \\n Pro Biden: ...  "
      ],
      "text/html": "<div>\n<style scoped>\n    .dataframe tbody tr th:only-of-type {\n        vertical-align: middle;\n    }\n\n    .dataframe tbody tr th {\n        vertical-align: top;\n    }\n\n    .dataframe thead th {\n        text-align: right;\n    }\n</style>\n<table border=\"1\" class=\"dataframe\">\n  <thead>\n    <tr style=\"text-align: right;\">\n      <th></th>\n      <th>country</th>\n      <th>trump</th>\n      <th>biden</th>\n      <th>sentiment</th>\n      <th>score</th>\n      <th>percentage</th>\n    </tr>\n  </thead>\n  <tbody>\n    <tr>\n      <th>0</th>\n      <td>France</td>\n      <td>0.104726</td>\n      <td>0.395274</td>\n      <td>Pro Biden</td>\n      <td>0.895274</td>\n      <td>Pro Trump: 0.10472589328314563 \\n Pro Biden: 0...</td>\n    </tr>\n    <tr>\n      <th>1</th>\n      <td>China</td>\n      <td>0.265641</td>\n      <td>0.234359</td>\n      <td>Pro Trump</td>\n      <td>0.265641</td>\n      <td>Pro Trump: 0.2656407717124021 \\n Pro Biden: 0....</td>\n    </tr>\n    <tr>\n      <th>2</th>\n      <td>South Korea</td>\n      <td>0.252649</td>\n      <td>0.247351</td>\n      <td>Pro Trump</td>\n      <td>0.252649</td>\n      <td>Pro Trump: 0.2526489813636484 \\n Pro Biden: 0....</td>\n    </tr>\n    <tr>\n      <th>3</th>\n      <td>Mexico</td>\n      <td>0.110060</td>\n      <td>0.389940</td>\n      <td>Pro Biden</td>\n      <td>0.889940</td>\n      <td>Pro Trump: 0.1100600378906067 \\n Pro Biden: 0....</td>\n    </tr>\n    <tr>\n      <th>4</th>\n      <td>Israel</td>\n      <td>0.115523</td>\n      <td>0.384477</td>\n      <td>Pro Biden</td>\n      <td>0.884477</td>\n      <td>Pro Trump: 0.11552326251401634 \\n Pro Biden: 0...</td>\n    </tr>\n    <tr>\n      <th>5</th>\n      <td>Indonesia</td>\n      <td>0.064404</td>\n      <td>0.435596</td>\n      <td>Pro Biden</td>\n      <td>0.935596</td>\n      <td>Pro Trump: 0.06440443655967121 \\n Pro Biden: 0...</td>\n    </tr>\n    <tr>\n      <th>6</th>\n      <td>UK</td>\n      <td>0.125765</td>\n      <td>0.374235</td>\n      <td>Pro Biden</td>\n      <td>0.874235</td>\n      <td>Pro Trump: 0.12576521601559043 \\n Pro Biden: 0...</td>\n    </tr>\n    <tr>\n      <th>7</th>\n      <td>India</td>\n      <td>0.105379</td>\n      <td>0.394621</td>\n      <td>Pro Biden</td>\n      <td>0.894621</td>\n      <td>Pro Trump: 0.1053792721859228 \\n Pro Biden: 0....</td>\n    </tr>\n    <tr>\n      <th>8</th>\n      <td>Russia</td>\n      <td>0.186136</td>\n      <td>0.313864</td>\n      <td>Pro Biden</td>\n      <td>0.813864</td>\n      <td>Pro Trump: 0.1861359280137933 \\n Pro Biden: 0....</td>\n    </tr>\n    <tr>\n      <th>9</th>\n      <td>Australia</td>\n      <td>0.137319</td>\n      <td>0.362681</td>\n      <td>Pro Biden</td>\n      <td>0.862681</td>\n      <td>Pro Trump: 0.13731905364250951 \\n Pro Biden: 0...</td>\n    </tr>\n    <tr>\n      <th>10</th>\n      <td>Singapore</td>\n      <td>0.077709</td>\n      <td>0.422291</td>\n      <td>Pro Biden</td>\n      <td>0.922291</td>\n      <td>Pro Trump: 0.07770852425684349 \\n Pro Biden: 0...</td>\n    </tr>\n    <tr>\n      <th>11</th>\n      <td>Canada</td>\n      <td>0.133651</td>\n      <td>0.366349</td>\n      <td>Pro Biden</td>\n      <td>0.866349</td>\n      <td>Pro Trump: 0.1336508169577194 \\n Pro Biden: 0....</td>\n    </tr>\n    <tr>\n      <th>12</th>\n      <td>Afghanistan</td>\n      <td>0.048822</td>\n      <td>0.451178</td>\n      <td>Pro Biden</td>\n      <td>0.951178</td>\n      <td>Pro Trump: 0.048821515598929555 \\n Pro Biden: ...</td>\n    </tr>\n    <tr>\n      <th>13</th>\n      <td>Germany</td>\n      <td>0.188224</td>\n      <td>0.311776</td>\n      <td>Pro Biden</td>\n      <td>0.811776</td>\n      <td>Pro Trump: 0.18822381658663911 \\n Pro Biden: 0...</td>\n    </tr>\n    <tr>\n      <th>14</th>\n      <td>Kenya</td>\n      <td>0.161379</td>\n      <td>0.338621</td>\n      <td>Pro Biden</td>\n      <td>0.838621</td>\n      <td>Pro Trump: 0.16137924281783356 \\n Pro Biden: 0...</td>\n    </tr>\n    <tr>\n      <th>15</th>\n      <td>Brazil</td>\n      <td>0.163786</td>\n      <td>0.336214</td>\n      <td>Pro Biden</td>\n      <td>0.836214</td>\n      <td>Pro Trump: 0.1637855028909767 \\n Pro Biden: 0....</td>\n    </tr>\n    <tr>\n      <th>16</th>\n      <td>Nigeria</td>\n      <td>0.414857</td>\n      <td>0.085143</td>\n      <td>Pro Trump</td>\n      <td>0.414857</td>\n      <td>Pro Trump: 0.4148573454840333 \\n Pro Biden: 0....</td>\n    </tr>\n    <tr>\n      <th>17</th>\n      <td>Japan</td>\n      <td>0.251923</td>\n      <td>0.248077</td>\n      <td>Pro Trump</td>\n      <td>0.251923</td>\n      <td>Pro Trump: 0.25192286978352674 \\n Pro Biden: 0...</td>\n    </tr>\n    <tr>\n      <th>18</th>\n      <td>Taiwan</td>\n      <td>0.094734</td>\n      <td>0.405266</td>\n      <td>Pro Biden</td>\n      <td>0.905266</td>\n      <td>Pro Trump: 0.09473377976089836 \\n Pro Biden: 0...</td>\n    </tr>\n    <tr>\n      <th>19</th>\n      <td>Iran</td>\n      <td>0.205643</td>\n      <td>0.294357</td>\n      <td>Pro Biden</td>\n      <td>0.794357</td>\n      <td>Pro Trump: 0.20564302057521133 \\n Pro Biden: 0...</td>\n    </tr>\n    <tr>\n      <th>20</th>\n      <td>Ukraine</td>\n      <td>0.257475</td>\n      <td>0.242525</td>\n      <td>Pro Trump</td>\n      <td>0.257475</td>\n      <td>Pro Trump: 0.2574753997944339 \\n Pro Biden: 0....</td>\n    </tr>\n    <tr>\n      <th>21</th>\n      <td>Saudi Arabia</td>\n      <td>0.393637</td>\n      <td>0.106363</td>\n      <td>Pro Trump</td>\n      <td>0.393637</td>\n      <td>Pro Trump: 0.39363652207708655 \\n Pro Biden: 0...</td>\n    </tr>\n    <tr>\n      <th>22</th>\n      <td>Philippines</td>\n      <td>0.053666</td>\n      <td>0.446334</td>\n      <td>Pro Biden</td>\n      <td>0.946334</td>\n      <td>Pro Trump: 0.053666236341653795 \\n Pro Biden: ...</td>\n    </tr>\n  </tbody>\n</table>\n</div>"
     },
     "metadata": {},
     "execution_count": 14
    }
   ],
   "source": [
    "new_data['percentage'] = percentage\n",
    "new_data"
   ]
  },
  {
   "cell_type": "code",
   "execution_count": 15,
   "metadata": {},
   "outputs": [
    {
     "output_type": "execute_result",
     "data": {
      "text/plain": [
       "       country     score                                         percentage\n",
       "0       France  0.895274  Pro Trump: 0.10472589328314563 \\n Pro Biden: 0...\n",
       "1        China  0.265641  Pro Trump: 0.2656407717124021 \\n Pro Biden: 0....\n",
       "2  South Korea  0.252649  Pro Trump: 0.2526489813636484 \\n Pro Biden: 0....\n",
       "3       Mexico  0.889940  Pro Trump: 0.1100600378906067 \\n Pro Biden: 0....\n",
       "4       Israel  0.884477  Pro Trump: 0.11552326251401634 \\n Pro Biden: 0..."
      ],
      "text/html": "<div>\n<style scoped>\n    .dataframe tbody tr th:only-of-type {\n        vertical-align: middle;\n    }\n\n    .dataframe tbody tr th {\n        vertical-align: top;\n    }\n\n    .dataframe thead th {\n        text-align: right;\n    }\n</style>\n<table border=\"1\" class=\"dataframe\">\n  <thead>\n    <tr style=\"text-align: right;\">\n      <th></th>\n      <th>country</th>\n      <th>score</th>\n      <th>percentage</th>\n    </tr>\n  </thead>\n  <tbody>\n    <tr>\n      <th>0</th>\n      <td>France</td>\n      <td>0.895274</td>\n      <td>Pro Trump: 0.10472589328314563 \\n Pro Biden: 0...</td>\n    </tr>\n    <tr>\n      <th>1</th>\n      <td>China</td>\n      <td>0.265641</td>\n      <td>Pro Trump: 0.2656407717124021 \\n Pro Biden: 0....</td>\n    </tr>\n    <tr>\n      <th>2</th>\n      <td>South Korea</td>\n      <td>0.252649</td>\n      <td>Pro Trump: 0.2526489813636484 \\n Pro Biden: 0....</td>\n    </tr>\n    <tr>\n      <th>3</th>\n      <td>Mexico</td>\n      <td>0.889940</td>\n      <td>Pro Trump: 0.1100600378906067 \\n Pro Biden: 0....</td>\n    </tr>\n    <tr>\n      <th>4</th>\n      <td>Israel</td>\n      <td>0.884477</td>\n      <td>Pro Trump: 0.11552326251401634 \\n Pro Biden: 0...</td>\n    </tr>\n  </tbody>\n</table>\n</div>"
     },
     "metadata": {},
     "execution_count": 15
    }
   ],
   "source": [
    "new_data = new_data[['country', 'score', 'percentage']]\n",
    "new_data.head()"
   ]
  },
  {
   "cell_type": "code",
   "execution_count": 64,
   "metadata": {},
   "outputs": [],
   "source": [
    "new_data.to_csv('country_scores.csv', index=False)"
   ]
  },
  {
   "cell_type": "code",
   "execution_count": 67,
   "metadata": {},
   "outputs": [
    {
     "output_type": "execute_result",
     "data": {
      "text/plain": [
       "               0         1         2\n",
       "0         Brazil  0.381445  0.618555\n",
       "1         Canada  0.330509  0.669491\n",
       "2          China  0.217945  0.782055\n",
       "3          India  0.217800  0.782200\n",
       "4           Iran  0.683509  0.316491\n",
       "5         Israel  0.320651  0.679349\n",
       "6         Mexico  0.459444  0.540556\n",
       "7         Russia  0.270093  0.729907\n",
       "8   Saudi Arabia  0.324689  0.675311\n",
       "9    South Korea  0.472373  0.527627\n",
       "10            UK  0.238284  0.761716\n",
       "11       Ukraine  0.532521  0.467479"
      ],
      "text/html": "<div>\n<style scoped>\n    .dataframe tbody tr th:only-of-type {\n        vertical-align: middle;\n    }\n\n    .dataframe tbody tr th {\n        vertical-align: top;\n    }\n\n    .dataframe thead th {\n        text-align: right;\n    }\n</style>\n<table border=\"1\" class=\"dataframe\">\n  <thead>\n    <tr style=\"text-align: right;\">\n      <th></th>\n      <th>0</th>\n      <th>1</th>\n      <th>2</th>\n    </tr>\n  </thead>\n  <tbody>\n    <tr>\n      <th>0</th>\n      <td>Brazil</td>\n      <td>0.381445</td>\n      <td>0.618555</td>\n    </tr>\n    <tr>\n      <th>1</th>\n      <td>Canada</td>\n      <td>0.330509</td>\n      <td>0.669491</td>\n    </tr>\n    <tr>\n      <th>2</th>\n      <td>China</td>\n      <td>0.217945</td>\n      <td>0.782055</td>\n    </tr>\n    <tr>\n      <th>3</th>\n      <td>India</td>\n      <td>0.217800</td>\n      <td>0.782200</td>\n    </tr>\n    <tr>\n      <th>4</th>\n      <td>Iran</td>\n      <td>0.683509</td>\n      <td>0.316491</td>\n    </tr>\n    <tr>\n      <th>5</th>\n      <td>Israel</td>\n      <td>0.320651</td>\n      <td>0.679349</td>\n    </tr>\n    <tr>\n      <th>6</th>\n      <td>Mexico</td>\n      <td>0.459444</td>\n      <td>0.540556</td>\n    </tr>\n    <tr>\n      <th>7</th>\n      <td>Russia</td>\n      <td>0.270093</td>\n      <td>0.729907</td>\n    </tr>\n    <tr>\n      <th>8</th>\n      <td>Saudi Arabia</td>\n      <td>0.324689</td>\n      <td>0.675311</td>\n    </tr>\n    <tr>\n      <th>9</th>\n      <td>South Korea</td>\n      <td>0.472373</td>\n      <td>0.527627</td>\n    </tr>\n    <tr>\n      <th>10</th>\n      <td>UK</td>\n      <td>0.238284</td>\n      <td>0.761716</td>\n    </tr>\n    <tr>\n      <th>11</th>\n      <td>Ukraine</td>\n      <td>0.532521</td>\n      <td>0.467479</td>\n    </tr>\n  </tbody>\n</table>\n</div>"
     },
     "metadata": {},
     "execution_count": 67
    }
   ],
   "source": [
    "data"
   ]
  },
  {
   "cell_type": "code",
   "execution_count": 69,
   "metadata": {},
   "outputs": [],
   "source": [
    "new1.to_csv('new.csv', index=False)"
   ]
  }
 ]
}